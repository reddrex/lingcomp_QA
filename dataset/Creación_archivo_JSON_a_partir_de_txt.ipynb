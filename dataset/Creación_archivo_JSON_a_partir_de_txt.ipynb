{
  "nbformat": 4,
  "nbformat_minor": 0,
  "metadata": {
    "colab": {
      "provenance": []
    },
    "kernelspec": {
      "name": "python3",
      "display_name": "Python 3"
    },
    "language_info": {
      "name": "python"
    }
  },
  "cells": [
    {
      "cell_type": "code",
      "source": [
        "import json"
      ],
      "metadata": {
        "id": "GVXFHYblYrok"
      },
      "execution_count": 1,
      "outputs": []
    },
    {
      "cell_type": "code",
      "execution_count": null,
      "metadata": {
        "id": "zTO-KMCqYoEd"
      },
      "outputs": [],
      "source": [
        "#creamos una función para extraer los pares de pregunta-respuesta\n",
        "def extract_qa_from_txt(txt_path):\n",
        "    #Leemos el archivo .txt\n",
        "    with open(txt_path, 'r') as f:\n",
        "        text = f.read()\n",
        "\n",
        "    #Creamos una lista donde meteremos diccionarios con dos\n",
        "    #claves: pregunta, respuesta, y sus respectivos valores.\n",
        "    qa_pairs = []\n",
        "    lines = text.split('\\n')\n",
        "    for i in range(0, len(lines), 2):\n",
        "        if i + 1 < len(lines):  #lo mantenemos por debajo del total de líneas de pregunta-respuesta\n",
        "            question = lines[i].strip()\n",
        "            answer = lines[i + 1].strip()\n",
        "            qa_pairs.append({'question': lines[i].strip(), 'answer': answer})\n",
        "\n",
        "    return qa_pairs #nos devuelve la lista con un diccionario por par de pregunta-respuesta\n",
        "\n",
        "#creamos una función para guardar en formato JSON los pares de QA\n",
        "def save_to_json(qa_pairs, json_file):\n",
        "    with open(json_file, 'w') as f:\n",
        "        json.dump(qa_pairs, f, indent=4)\n",
        "\n",
        "#Aplicamos la primera función a nuestro archivo .txt con preguntas y respuestas del ámbito de LC\n",
        "txt_file = 'preg_resp.txt'\n",
        "qa_pairs = extract_qa_from_txt(txt_file)\n",
        "\n",
        "#Lo pasamos a JSON y descargamos el archivo\n",
        "json_file = 'LingComp_QA.json'\n",
        "save_to_json(qa_pairs, json_file)"
      ]
    }
  ]
}