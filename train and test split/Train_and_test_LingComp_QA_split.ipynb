{
  "nbformat": 4,
  "nbformat_minor": 0,
  "metadata": {
    "colab": {
      "provenance": []
    },
    "kernelspec": {
      "name": "python3",
      "display_name": "Python 3"
    },
    "language_info": {
      "name": "python"
    }
  },
  "cells": [
    {
      "cell_type": "code",
      "source": [
        "#Importamos lo necesario\n",
        "import json\n",
        "import random\n",
        "\n",
        "#CReamos una función para cargar el dataset en JSON\n",
        "def load_dataset(file_path, encoding='utf-8'):\n",
        "    with open(file_path, \"rb\") as file:\n",
        "        dataset_bytes = file.read()\n",
        "        dataset_str = dataset_bytes.decode(encoding)\n",
        "        dataset = json.loads(dataset_str)\n",
        "    return dataset\n",
        "\n",
        "#Creamos una función para \"barajar\" el dataset\n",
        "def shuffle_dataset(dataset):\n",
        "    random.shuffle(dataset)\n",
        "\n",
        "#Partimos el dataset, dejando el 80% para train y el 20% para test\n",
        "def split_dataset(dataset, split_ratio=0.8):\n",
        "    split_index = int(len(dataset) * split_ratio)\n",
        "    train_set = dataset[:split_index]\n",
        "    test_set = dataset[split_index:]\n",
        "    return train_set, test_set\n",
        "\n",
        "#Función para guardar de nuevo en JSON el split\n",
        "def save_to_json(data, file_path, encoding='utf-8'):\n",
        "    with open(file_path, \"wb\") as file:\n",
        "        json_data = json.dumps(data, ensure_ascii=False, indent=4).encode(encoding)\n",
        "        file.write(json_data)\n",
        "\n",
        "#Cargamos el dataset que teníamos ya preparado\n",
        "dataset = load_dataset(\"/content/lingcomp_QA.json\")\n",
        "\n",
        "#Barajamos las preguntas y respuestas\n",
        "shuffle_dataset(dataset)\n",
        "\n",
        "#Hacemos la división\n",
        "train_set, test_set = split_dataset(dataset, split_ratio=0.8)\n",
        "\n",
        "#Guardamos los dos sets, train y test, en JSON\n",
        "save_to_json(train_set, \"LCQA_train_dataset.json\")\n",
        "save_to_json(test_set, \"LCQA_test_dataset.json\")"
      ],
      "metadata": {
        "id": "rZwG2lIBMz_e"
      },
      "execution_count": 16,
      "outputs": []
    }
  ]
}